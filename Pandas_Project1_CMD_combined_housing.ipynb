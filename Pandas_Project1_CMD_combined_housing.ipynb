{
 "cells": [
  {
   "cell_type": "code",
   "execution_count": 1,
   "id": "c39aed53",
   "metadata": {},
   "outputs": [],
   "source": [
    "# Dependencies and Setup\n",
    "import pandas as pd\n",
    "from pathlib import Path"
   ]
  },
  {
   "cell_type": "code",
   "execution_count": 4,
   "id": "e50d2a4f",
   "metadata": {},
   "outputs": [],
   "source": [
    "# Store files as a variables\n",
    "file_fed_int = Path(\"Resources/fed_int_rates_df.csv\")\n",
    "file_hpi = Path(\"Resources/combined_hpi.csv\")"
   ]
  },
  {
   "cell_type": "code",
   "execution_count": 6,
   "id": "58d8ac23",
   "metadata": {},
   "outputs": [],
   "source": [
    "# Read .csv files\n",
    "fedint_rates_df = pd.read_csv(file_fed_int)\n",
    "hpi_df = pd.read_csv(file_hpi)"
   ]
  },
  {
   "cell_type": "code",
   "execution_count": 9,
   "id": "4555542a",
   "metadata": {},
   "outputs": [],
   "source": [
    "# Concatenate fed interest rates and home price indices at Date\n",
    "combined_housing = pd.concat([hpi_df[[\"DATE\",\"CTSTHPI\",\"MDSTHPI\",\"TXSTHPI\",\"WASTHPI\",\"USSTHPI\"]],fedint_rates_df[[\"Date\",\"Effective Federal Funds Rate\",\"Unemployment Rate\",\"Inflation Rate\"]]])"
   ]
  },
  {
   "cell_type": "code",
   "execution_count": 10,
   "id": "d866869f",
   "metadata": {},
   "outputs": [
    {
     "data": {
      "text/html": [
       "<div>\n",
       "<style scoped>\n",
       "    .dataframe tbody tr th:only-of-type {\n",
       "        vertical-align: middle;\n",
       "    }\n",
       "\n",
       "    .dataframe tbody tr th {\n",
       "        vertical-align: top;\n",
       "    }\n",
       "\n",
       "    .dataframe thead th {\n",
       "        text-align: right;\n",
       "    }\n",
       "</style>\n",
       "<table border=\"1\" class=\"dataframe\">\n",
       "  <thead>\n",
       "    <tr style=\"text-align: right;\">\n",
       "      <th></th>\n",
       "      <th>DATE</th>\n",
       "      <th>CTSTHPI</th>\n",
       "      <th>MDSTHPI</th>\n",
       "      <th>TXSTHPI</th>\n",
       "      <th>WASTHPI</th>\n",
       "      <th>USSTHPI</th>\n",
       "      <th>Date</th>\n",
       "      <th>Effective Federal Funds Rate</th>\n",
       "      <th>Unemployment Rate</th>\n",
       "      <th>Inflation Rate</th>\n",
       "    </tr>\n",
       "  </thead>\n",
       "  <tbody>\n",
       "    <tr>\n",
       "      <th>0</th>\n",
       "      <td>1975-01-01</td>\n",
       "      <td>62.28</td>\n",
       "      <td>61.89</td>\n",
       "      <td>55.63</td>\n",
       "      <td>46.26</td>\n",
       "      <td>60.07</td>\n",
       "      <td>NaN</td>\n",
       "      <td>NaN</td>\n",
       "      <td>NaN</td>\n",
       "      <td>NaN</td>\n",
       "    </tr>\n",
       "    <tr>\n",
       "      <th>1</th>\n",
       "      <td>1975-04-01</td>\n",
       "      <td>62.82</td>\n",
       "      <td>62.35</td>\n",
       "      <td>58.60</td>\n",
       "      <td>47.18</td>\n",
       "      <td>61.01</td>\n",
       "      <td>NaN</td>\n",
       "      <td>NaN</td>\n",
       "      <td>NaN</td>\n",
       "      <td>NaN</td>\n",
       "    </tr>\n",
       "    <tr>\n",
       "      <th>2</th>\n",
       "      <td>1975-07-01</td>\n",
       "      <td>61.86</td>\n",
       "      <td>65.13</td>\n",
       "      <td>56.16</td>\n",
       "      <td>49.72</td>\n",
       "      <td>61.20</td>\n",
       "      <td>NaN</td>\n",
       "      <td>NaN</td>\n",
       "      <td>NaN</td>\n",
       "      <td>NaN</td>\n",
       "    </tr>\n",
       "    <tr>\n",
       "      <th>3</th>\n",
       "      <td>1975-10-01</td>\n",
       "      <td>61.88</td>\n",
       "      <td>67.04</td>\n",
       "      <td>59.34</td>\n",
       "      <td>48.05</td>\n",
       "      <td>62.24</td>\n",
       "      <td>NaN</td>\n",
       "      <td>NaN</td>\n",
       "      <td>NaN</td>\n",
       "      <td>NaN</td>\n",
       "    </tr>\n",
       "    <tr>\n",
       "      <th>4</th>\n",
       "      <td>1976-01-01</td>\n",
       "      <td>64.80</td>\n",
       "      <td>67.35</td>\n",
       "      <td>58.65</td>\n",
       "      <td>50.36</td>\n",
       "      <td>62.89</td>\n",
       "      <td>NaN</td>\n",
       "      <td>NaN</td>\n",
       "      <td>NaN</td>\n",
       "      <td>NaN</td>\n",
       "    </tr>\n",
       "  </tbody>\n",
       "</table>\n",
       "</div>"
      ],
      "text/plain": [
       "         DATE  CTSTHPI  MDSTHPI  TXSTHPI  WASTHPI  USSTHPI Date  \\\n",
       "0  1975-01-01    62.28    61.89    55.63    46.26    60.07  NaN   \n",
       "1  1975-04-01    62.82    62.35    58.60    47.18    61.01  NaN   \n",
       "2  1975-07-01    61.86    65.13    56.16    49.72    61.20  NaN   \n",
       "3  1975-10-01    61.88    67.04    59.34    48.05    62.24  NaN   \n",
       "4  1976-01-01    64.80    67.35    58.65    50.36    62.89  NaN   \n",
       "\n",
       "   Effective Federal Funds Rate  Unemployment Rate  Inflation Rate  \n",
       "0                           NaN                NaN             NaN  \n",
       "1                           NaN                NaN             NaN  \n",
       "2                           NaN                NaN             NaN  \n",
       "3                           NaN                NaN             NaN  \n",
       "4                           NaN                NaN             NaN  "
      ]
     },
     "execution_count": 10,
     "metadata": {},
     "output_type": "execute_result"
    }
   ],
   "source": [
    "combined_housing.head()"
   ]
  },
  {
   "cell_type": "code",
   "execution_count": null,
   "id": "b2eb3ae0",
   "metadata": {},
   "outputs": [],
   "source": []
  }
 ],
 "metadata": {
  "kernelspec": {
   "display_name": "Python 3 (ipykernel)",
   "language": "python",
   "name": "python3"
  },
  "language_info": {
   "codemirror_mode": {
    "name": "ipython",
    "version": 3
   },
   "file_extension": ".py",
   "mimetype": "text/x-python",
   "name": "python",
   "nbconvert_exporter": "python",
   "pygments_lexer": "ipython3",
   "version": "3.10.11"
  }
 },
 "nbformat": 4,
 "nbformat_minor": 5
}
