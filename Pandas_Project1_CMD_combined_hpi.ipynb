{
 "cells": [
  {
   "cell_type": "code",
   "execution_count": 1,
   "id": "89479d7a",
   "metadata": {},
   "outputs": [],
   "source": [
    "# Dependencies and Setup\n",
    "import pandas as pd\n",
    "from pathlib import Path"
   ]
  },
  {
   "cell_type": "code",
   "execution_count": 2,
   "id": "18faf0a2",
   "metadata": {},
   "outputs": [],
   "source": [
    "# Store files as a variables\n",
    "file_ct = Path(\"Resources/MDSTHPI.csv\")\n",
    "file_md = Path(\"Resources/CTSTHPI.csv\")\n",
    "file_tx = Path(\"Resources/TXSTHPI.csv\")\n",
    "file_wa = Path(\"Resources/WASTHPI.csv\")\n",
    "file_us = Path(\"Resources/USSTHPI.csv\")"
   ]
  },
  {
   "cell_type": "code",
   "execution_count": 3,
   "id": "f00372c8",
   "metadata": {},
   "outputs": [],
   "source": [
    "# Read .csv files\n",
    "file_ct_df = pd.read_csv(file_md)\n",
    "file_md_df = pd.read_csv(file_ct)\n",
    "file_tx_df = pd.read_csv(file_tx)\n",
    "file_wa_df = pd.read_csv(file_wa)\n",
    "file_us_df = pd.read_csv(file_us)"
   ]
  },
  {
   "cell_type": "code",
   "execution_count": 4,
   "id": "2bca513d",
   "metadata": {},
   "outputs": [],
   "source": [
    "# Converting Date datatype\n",
    "# Source for converting date datatype: https://medium.com/analytics-vidhya/how-to-pd-merge-two-data-frames-on-a-common-date-column-e7808d7ccaee\n",
    "file_ct_df['DATE'] = pd.to_datetime(file_md_df.DATE)\n",
    "file_md_df['DATE'] = pd.to_datetime(file_ct_df.DATE)\n",
    "file_tx_df['DATE'] = pd.to_datetime(file_tx_df.DATE)\n",
    "file_wa_df['DATE'] = pd.to_datetime(file_wa_df.DATE)\n",
    "file_us_df['DATE'] = pd.to_datetime(file_us_df.DATE)"
   ]
  },
  {
   "cell_type": "code",
   "execution_count": 5,
   "id": "66b2d58f",
   "metadata": {},
   "outputs": [
    {
     "data": {
      "text/plain": [
       "<bound method DataFrame.info of           DATE  USSTHPI\n",
       "0   1975-01-01    60.07\n",
       "1   1975-04-01    61.01\n",
       "2   1975-07-01    61.20\n",
       "3   1975-10-01    62.24\n",
       "4   1976-01-01    62.89\n",
       "..         ...      ...\n",
       "188 2022-01-01   578.71\n",
       "189 2022-04-01   617.95\n",
       "190 2022-07-01   628.40\n",
       "191 2022-10-01   623.26\n",
       "192 2023-01-01   625.38\n",
       "\n",
       "[193 rows x 2 columns]>"
      ]
     },
     "execution_count": 5,
     "metadata": {},
     "output_type": "execute_result"
    }
   ],
   "source": [
    "# Checking the file_us_df DATE format\n",
    "file_us_df.info"
   ]
  },
  {
   "cell_type": "code",
   "execution_count": 6,
   "id": "fca887e5",
   "metadata": {},
   "outputs": [
    {
     "data": {
      "text/html": [
       "<div>\n",
       "<style scoped>\n",
       "    .dataframe tbody tr th:only-of-type {\n",
       "        vertical-align: middle;\n",
       "    }\n",
       "\n",
       "    .dataframe tbody tr th {\n",
       "        vertical-align: top;\n",
       "    }\n",
       "\n",
       "    .dataframe thead th {\n",
       "        text-align: right;\n",
       "    }\n",
       "</style>\n",
       "<table border=\"1\" class=\"dataframe\">\n",
       "  <thead>\n",
       "    <tr style=\"text-align: right;\">\n",
       "      <th></th>\n",
       "      <th>index</th>\n",
       "      <th>DATE</th>\n",
       "      <th>USSTHPI</th>\n",
       "    </tr>\n",
       "  </thead>\n",
       "  <tbody>\n",
       "    <tr>\n",
       "      <th>0</th>\n",
       "      <td>0</td>\n",
       "      <td>1975-01-01</td>\n",
       "      <td>60.07</td>\n",
       "    </tr>\n",
       "    <tr>\n",
       "      <th>1</th>\n",
       "      <td>1</td>\n",
       "      <td>1975-04-01</td>\n",
       "      <td>61.01</td>\n",
       "    </tr>\n",
       "    <tr>\n",
       "      <th>2</th>\n",
       "      <td>2</td>\n",
       "      <td>1975-07-01</td>\n",
       "      <td>61.20</td>\n",
       "    </tr>\n",
       "    <tr>\n",
       "      <th>3</th>\n",
       "      <td>3</td>\n",
       "      <td>1975-10-01</td>\n",
       "      <td>62.24</td>\n",
       "    </tr>\n",
       "    <tr>\n",
       "      <th>4</th>\n",
       "      <td>4</td>\n",
       "      <td>1976-01-01</td>\n",
       "      <td>62.89</td>\n",
       "    </tr>\n",
       "    <tr>\n",
       "      <th>...</th>\n",
       "      <td>...</td>\n",
       "      <td>...</td>\n",
       "      <td>...</td>\n",
       "    </tr>\n",
       "    <tr>\n",
       "      <th>188</th>\n",
       "      <td>188</td>\n",
       "      <td>2022-01-01</td>\n",
       "      <td>578.71</td>\n",
       "    </tr>\n",
       "    <tr>\n",
       "      <th>189</th>\n",
       "      <td>189</td>\n",
       "      <td>2022-04-01</td>\n",
       "      <td>617.95</td>\n",
       "    </tr>\n",
       "    <tr>\n",
       "      <th>190</th>\n",
       "      <td>190</td>\n",
       "      <td>2022-07-01</td>\n",
       "      <td>628.40</td>\n",
       "    </tr>\n",
       "    <tr>\n",
       "      <th>191</th>\n",
       "      <td>191</td>\n",
       "      <td>2022-10-01</td>\n",
       "      <td>623.26</td>\n",
       "    </tr>\n",
       "    <tr>\n",
       "      <th>192</th>\n",
       "      <td>192</td>\n",
       "      <td>2023-01-01</td>\n",
       "      <td>625.38</td>\n",
       "    </tr>\n",
       "  </tbody>\n",
       "</table>\n",
       "<p>193 rows × 3 columns</p>\n",
       "</div>"
      ],
      "text/plain": [
       "     index       DATE  USSTHPI\n",
       "0        0 1975-01-01    60.07\n",
       "1        1 1975-04-01    61.01\n",
       "2        2 1975-07-01    61.20\n",
       "3        3 1975-10-01    62.24\n",
       "4        4 1976-01-01    62.89\n",
       "..     ...        ...      ...\n",
       "188    188 2022-01-01   578.71\n",
       "189    189 2022-04-01   617.95\n",
       "190    190 2022-07-01   628.40\n",
       "191    191 2022-10-01   623.26\n",
       "192    192 2023-01-01   625.38\n",
       "\n",
       "[193 rows x 3 columns]"
      ]
     },
     "execution_count": 6,
     "metadata": {},
     "output_type": "execute_result"
    }
   ],
   "source": [
    "# Reset indices for dataframes\n",
    "file_ct_df.reset_index()\n",
    "file_md_df.reset_index()\n",
    "file_tx_df.reset_index()\n",
    "file_wa_df.reset_index()\n",
    "file_us_df.reset_index()"
   ]
  },
  {
   "cell_type": "code",
   "execution_count": 7,
   "id": "e3ed3f47",
   "metadata": {},
   "outputs": [
    {
     "data": {
      "text/plain": [
       "pandas.core.frame.DataFrame"
      ]
     },
     "execution_count": 7,
     "metadata": {},
     "output_type": "execute_result"
    }
   ],
   "source": [
    "# Checking the file_us_df type\n",
    "type(file_us_df)"
   ]
  },
  {
   "cell_type": "code",
   "execution_count": 8,
   "id": "68537fc2",
   "metadata": {},
   "outputs": [],
   "source": [
    "# Concatenate all state & US dataframes\n",
    "combined_hpi = pd.concat([file_ct_df[[\"DATE\",\"CTSTHPI\"]], file_md_df[\"MDSTHPI\"], file_tx_df[\"TXSTHPI\"], file_wa_df[\"WASTHPI\"], file_us_df[\"USSTHPI\"]], axis = 1)"
   ]
  },
  {
   "cell_type": "code",
   "execution_count": 9,
   "id": "fc5d6200",
   "metadata": {},
   "outputs": [
    {
     "data": {
      "text/html": [
       "<div>\n",
       "<style scoped>\n",
       "    .dataframe tbody tr th:only-of-type {\n",
       "        vertical-align: middle;\n",
       "    }\n",
       "\n",
       "    .dataframe tbody tr th {\n",
       "        vertical-align: top;\n",
       "    }\n",
       "\n",
       "    .dataframe thead th {\n",
       "        text-align: right;\n",
       "    }\n",
       "</style>\n",
       "<table border=\"1\" class=\"dataframe\">\n",
       "  <thead>\n",
       "    <tr style=\"text-align: right;\">\n",
       "      <th></th>\n",
       "      <th>DATE</th>\n",
       "      <th>CTSTHPI</th>\n",
       "      <th>MDSTHPI</th>\n",
       "      <th>TXSTHPI</th>\n",
       "      <th>WASTHPI</th>\n",
       "      <th>USSTHPI</th>\n",
       "    </tr>\n",
       "  </thead>\n",
       "  <tbody>\n",
       "    <tr>\n",
       "      <th>0</th>\n",
       "      <td>1975-01-01</td>\n",
       "      <td>62.28</td>\n",
       "      <td>61.89</td>\n",
       "      <td>55.63</td>\n",
       "      <td>46.26</td>\n",
       "      <td>60.07</td>\n",
       "    </tr>\n",
       "    <tr>\n",
       "      <th>1</th>\n",
       "      <td>1975-04-01</td>\n",
       "      <td>62.82</td>\n",
       "      <td>62.35</td>\n",
       "      <td>58.60</td>\n",
       "      <td>47.18</td>\n",
       "      <td>61.01</td>\n",
       "    </tr>\n",
       "    <tr>\n",
       "      <th>2</th>\n",
       "      <td>1975-07-01</td>\n",
       "      <td>61.86</td>\n",
       "      <td>65.13</td>\n",
       "      <td>56.16</td>\n",
       "      <td>49.72</td>\n",
       "      <td>61.20</td>\n",
       "    </tr>\n",
       "    <tr>\n",
       "      <th>3</th>\n",
       "      <td>1975-10-01</td>\n",
       "      <td>61.88</td>\n",
       "      <td>67.04</td>\n",
       "      <td>59.34</td>\n",
       "      <td>48.05</td>\n",
       "      <td>62.24</td>\n",
       "    </tr>\n",
       "    <tr>\n",
       "      <th>4</th>\n",
       "      <td>1976-01-01</td>\n",
       "      <td>64.80</td>\n",
       "      <td>67.35</td>\n",
       "      <td>58.65</td>\n",
       "      <td>50.36</td>\n",
       "      <td>62.89</td>\n",
       "    </tr>\n",
       "  </tbody>\n",
       "</table>\n",
       "</div>"
      ],
      "text/plain": [
       "        DATE  CTSTHPI  MDSTHPI  TXSTHPI  WASTHPI  USSTHPI\n",
       "0 1975-01-01    62.28    61.89    55.63    46.26    60.07\n",
       "1 1975-04-01    62.82    62.35    58.60    47.18    61.01\n",
       "2 1975-07-01    61.86    65.13    56.16    49.72    61.20\n",
       "3 1975-10-01    61.88    67.04    59.34    48.05    62.24\n",
       "4 1976-01-01    64.80    67.35    58.65    50.36    62.89"
      ]
     },
     "execution_count": 9,
     "metadata": {},
     "output_type": "execute_result"
    }
   ],
   "source": [
    "# Display first 5 concatenated states & US dataframes\n",
    "combined_hpi.head()"
   ]
  },
  {
   "cell_type": "code",
   "execution_count": 10,
   "id": "54179b29",
   "metadata": {},
   "outputs": [
    {
     "data": {
      "text/html": [
       "<div>\n",
       "<style scoped>\n",
       "    .dataframe tbody tr th:only-of-type {\n",
       "        vertical-align: middle;\n",
       "    }\n",
       "\n",
       "    .dataframe tbody tr th {\n",
       "        vertical-align: top;\n",
       "    }\n",
       "\n",
       "    .dataframe thead th {\n",
       "        text-align: right;\n",
       "    }\n",
       "</style>\n",
       "<table border=\"1\" class=\"dataframe\">\n",
       "  <thead>\n",
       "    <tr style=\"text-align: right;\">\n",
       "      <th></th>\n",
       "      <th>DATE</th>\n",
       "      <th>CTSTHPI</th>\n",
       "      <th>MDSTHPI</th>\n",
       "      <th>TXSTHPI</th>\n",
       "      <th>WASTHPI</th>\n",
       "      <th>USSTHPI</th>\n",
       "    </tr>\n",
       "  </thead>\n",
       "  <tbody>\n",
       "    <tr>\n",
       "      <th>188</th>\n",
       "      <td>2022-01-01</td>\n",
       "      <td>522.84</td>\n",
       "      <td>599.85</td>\n",
       "      <td>459.73</td>\n",
       "      <td>911.13</td>\n",
       "      <td>578.71</td>\n",
       "    </tr>\n",
       "    <tr>\n",
       "      <th>189</th>\n",
       "      <td>2022-04-01</td>\n",
       "      <td>555.63</td>\n",
       "      <td>628.90</td>\n",
       "      <td>493.63</td>\n",
       "      <td>975.15</td>\n",
       "      <td>617.95</td>\n",
       "    </tr>\n",
       "    <tr>\n",
       "      <th>190</th>\n",
       "      <td>2022-07-01</td>\n",
       "      <td>566.25</td>\n",
       "      <td>630.36</td>\n",
       "      <td>503.83</td>\n",
       "      <td>966.46</td>\n",
       "      <td>628.40</td>\n",
       "    </tr>\n",
       "    <tr>\n",
       "      <th>191</th>\n",
       "      <td>2022-10-01</td>\n",
       "      <td>564.56</td>\n",
       "      <td>628.93</td>\n",
       "      <td>500.08</td>\n",
       "      <td>938.28</td>\n",
       "      <td>623.26</td>\n",
       "    </tr>\n",
       "    <tr>\n",
       "      <th>192</th>\n",
       "      <td>2023-01-01</td>\n",
       "      <td>569.09</td>\n",
       "      <td>631.33</td>\n",
       "      <td>499.26</td>\n",
       "      <td>934.99</td>\n",
       "      <td>625.38</td>\n",
       "    </tr>\n",
       "  </tbody>\n",
       "</table>\n",
       "</div>"
      ],
      "text/plain": [
       "          DATE  CTSTHPI  MDSTHPI  TXSTHPI  WASTHPI  USSTHPI\n",
       "188 2022-01-01   522.84   599.85   459.73   911.13   578.71\n",
       "189 2022-04-01   555.63   628.90   493.63   975.15   617.95\n",
       "190 2022-07-01   566.25   630.36   503.83   966.46   628.40\n",
       "191 2022-10-01   564.56   628.93   500.08   938.28   623.26\n",
       "192 2023-01-01   569.09   631.33   499.26   934.99   625.38"
      ]
     },
     "execution_count": 10,
     "metadata": {},
     "output_type": "execute_result"
    }
   ],
   "source": [
    "# Display last 5 concatenated states & US dataframes\n",
    "combined_hpi.tail()"
   ]
  },
  {
   "cell_type": "code",
   "execution_count": 11,
   "id": "e1ac2628",
   "metadata": {},
   "outputs": [
    {
     "data": {
      "text/plain": [
       "DATE        CTSTHPI  MDSTHPI  TXSTHPI  WASTHPI  USSTHPI\n",
       "1975-01-01  62.28    61.89    55.63    46.26    60.07      1\n",
       "1999-04-01  248.78   229.34   152.27   259.90   220.42     1\n",
       "2005-10-01  456.51   494.71   202.72   429.38   362.92     1\n",
       "2006-01-01  462.44   508.39   205.12   444.75   368.68     1\n",
       "2006-04-01  464.77   518.83   208.35   460.08   372.46     1\n",
       "                                                          ..\n",
       "1991-10-01  236.05   209.78   121.08   188.17   171.49     1\n",
       "1992-01-01  237.06   210.55   123.05   189.06   172.81     1\n",
       "1992-04-01  232.39   209.19   122.61   190.81   172.77     1\n",
       "1992-07-01  233.22   211.15   124.68   193.37   174.74     1\n",
       "2023-01-01  569.09   631.33   499.26   934.99   625.38     1\n",
       "Length: 193, dtype: int64"
      ]
     },
     "execution_count": 11,
     "metadata": {},
     "output_type": "execute_result"
    }
   ],
   "source": [
    "# Verify count of rows in combined dataframe is equal to rows in .csv file less header\n",
    "combined_hpi.value_counts()"
   ]
  },
  {
   "cell_type": "code",
   "execution_count": 12,
   "id": "da5a7594",
   "metadata": {},
   "outputs": [],
   "source": [
    "# Write file to .csv\n",
    "#Source for writing file to .csv: https://pandas.pydata.org/docs/reference/api/pandas.DataFrame.to_csv.html\n",
    "filepath = Path(\"Resources/combined_hpi.csv\")\n",
    "filepath.parent.mkdir(parents=True, exist_ok=True)\n",
    "combined_hpi.to_csv(filepath)"
   ]
  },
  {
   "cell_type": "code",
   "execution_count": null,
   "id": "380003c8",
   "metadata": {},
   "outputs": [],
   "source": []
  }
 ],
 "metadata": {
  "kernelspec": {
   "display_name": "Python 3 (ipykernel)",
   "language": "python",
   "name": "python3"
  },
  "language_info": {
   "codemirror_mode": {
    "name": "ipython",
    "version": 3
   },
   "file_extension": ".py",
   "mimetype": "text/x-python",
   "name": "python",
   "nbconvert_exporter": "python",
   "pygments_lexer": "ipython3",
   "version": "3.10.11"
  }
 },
 "nbformat": 4,
 "nbformat_minor": 5
}
